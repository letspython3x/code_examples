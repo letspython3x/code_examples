{
 "cells": [
  {
   "cell_type": "code",
   "execution_count": 1,
   "metadata": {
    "collapsed": true
   },
   "outputs": [],
   "source": [
    "import collections\n",
    "word_freq = dict()\n",
    "file1 = open('./98-0.txt')"
   ]
  },
  {
   "cell_type": "code",
   "execution_count": 6,
   "metadata": {},
   "outputs": [
    {
     "name": "stdout",
     "output_type": "stream",
     "text": [
      "<open file './98-0.txt', mode 'r' at 0x7f2c5074b420>\n"
     ]
    }
   ],
   "source": [
    "print(file1)"
   ]
  },
  {
   "cell_type": "code",
   "execution_count": 24,
   "metadata": {},
   "outputs": [
    {
     "name": "stdout",
     "output_type": "stream",
     "text": [
      "(u'said', ':', 642)\n",
      "(u'mr', ':', 602)\n",
      "(u'one', ':', 411)\n",
      "(u'\\u201ci', ':', 402)\n",
      "(u'lorry', ':', 313)\n",
      "(u'upon', ':', 287)\n",
      "(u'will', ':', 276)\n",
      "(u'little', ':', 263)\n",
      "(u'defarge', ':', 259)\n",
      "(u'man', ':', 258)\n"
     ]
    }
   ],
   "source": [
    "import collections\n",
    "word_freq = dict()\n",
    "file1 = open('./98-0.txt')\n",
    "stopwords = set(line.strip() for line in open('stopwords'))\n",
    "for word in file1.read().lower().split():\n",
    "    word = word.decode('utf-8')\n",
    "    word = word.replace(',','')\n",
    "    word = word.replace('\\\\','')\n",
    "    word = word.replace('.','')\n",
    "    word = word.replace('\"','')\n",
    "    if word not in stopwords:\n",
    "        if word not in word_freq:\n",
    "            word_freq[word] = 1\n",
    "        else:\n",
    "            word_freq[word] += 1\n",
    "# print(word_freq)\n",
    "\n",
    "b= collections.Counter(word_freq)\n",
    "for word, count in b.most_common(10):\n",
    "    print(word, \":\", count)"
   ]
  },
  {
   "cell_type": "code",
   "execution_count": null,
   "metadata": {},
   "outputs": [],
   "source": []
  },
  {
   "cell_type": "code",
   "execution_count": null,
   "metadata": {
    "collapsed": true
   },
   "outputs": [],
   "source": []
  }
 ],
 "metadata": {
  "kernelspec": {
   "display_name": "Python 3",
   "language": "python",
   "name": "python3"
  },
  "language_info": {
   "codemirror_mode": {
    "name": "ipython",
    "version": 2
   },
   "file_extension": ".py",
   "mimetype": "text/x-python",
   "name": "python",
   "nbconvert_exporter": "python",
   "pygments_lexer": "ipython2",
   "version": "2.7.14"
  }
 },
 "nbformat": 4,
 "nbformat_minor": 2
}
